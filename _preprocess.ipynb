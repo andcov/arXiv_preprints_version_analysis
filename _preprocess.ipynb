{
 "cells": [
  {
   "cell_type": "code",
   "execution_count": 2,
   "id": "1048a136-5148-48c8-9234-b9fb2395750a",
   "metadata": {},
   "outputs": [],
   "source": [
    "import json\n",
    "import pandas as pd\n",
    "import numpy as np"
   ]
  },
  {
   "cell_type": "markdown",
   "id": "09a5da31-9bff-4011-9165-d11646fb44da",
   "metadata": {
    "tags": []
   },
   "source": [
    "> The following blocks should be run only if you want to reparse the Kaggle JSON list, otherwise it is recommended to jump to reading the `papers.csv` file."
   ]
  },
  {
   "cell_type": "code",
   "execution_count": 21,
   "id": "c816abff-e03d-4aa0-b66b-f35c2f6d1e84",
   "metadata": {},
   "outputs": [],
   "source": [
    "# Due to some limitations of Python, the entire JSON file cannot be opened so we will parse it line by line\n",
    "def get_metadata():\n",
    "    with open(data_file, 'r') as f:\n",
    "        for line in f:\n",
    "            yield line"
   ]
  },
  {
   "cell_type": "code",
   "execution_count": 22,
   "id": "68524ba2-fc73-4329-ac7f-82e444eb422b",
   "metadata": {},
   "outputs": [],
   "source": [
    "data_file = 'arxiv-metadata-oai-snapshot.json'\n",
    "\n",
    "# Lists for all of the information we will retain from the JSON\n",
    "title = []\n",
    "pid = []\n",
    "vers = []\n",
    "vers_cnt = []\n",
    "cats = []\n",
    "vers_date = []\n",
    "\n",
    "metadata = get_metadata()\n",
    "for paper in metadata:\n",
    "    js = json.loads(paper)\n",
    "    vs = js.get('versions')\n",
    "    # Only add a paper if it has more than one version and less than five\n",
    "    if len(vs) > 1 and len(vs) < 5:\n",
    "        for i in range(len(vs)):\n",
    "            title.append(js.get('title'))\n",
    "            pid.append(js.get('id'))\n",
    "            vers.append(i + 1)\n",
    "            vers_cnt.append(len(vs))\n",
    "            cats.append(js.get('categories'))\n",
    "            vers_date.append(js.get('versions')[i].get('created'))"
   ]
  },
  {
   "cell_type": "code",
   "execution_count": 23,
   "id": "efc40e3d-522e-4697-a37f-369e99316fc2",
   "metadata": {},
   "outputs": [],
   "source": [
    "# Build a DataFrame from the extracted information\n",
    "papers = pd.DataFrame({\n",
    "    'title': title,\n",
    "    'id': pid,\n",
    "    'categories': cats,\n",
    "    'version': vers,\n",
    "    'total_versions': vers_cnt,\n",
    "    'date': vers_date,\n",
    "})"
   ]
  },
  {
   "cell_type": "code",
   "execution_count": 24,
   "id": "b2878aed-de46-4b3c-9576-0abb57af10e5",
   "metadata": {},
   "outputs": [],
   "source": [
    "papers['date'] = pd.to_datetime(papers['date'])"
   ]
  },
  {
   "cell_type": "code",
   "execution_count": 27,
   "id": "2c73456f-dc85-4ecf-9338-4bb0ae535435",
   "metadata": {},
   "outputs": [
    {
     "data": {
      "text/html": [
       "<div>\n",
       "<style scoped>\n",
       "    .dataframe tbody tr th:only-of-type {\n",
       "        vertical-align: middle;\n",
       "    }\n",
       "\n",
       "    .dataframe tbody tr th {\n",
       "        vertical-align: top;\n",
       "    }\n",
       "\n",
       "    .dataframe thead th {\n",
       "        text-align: right;\n",
       "    }\n",
       "</style>\n",
       "<table border=\"1\" class=\"dataframe\">\n",
       "  <thead>\n",
       "    <tr style=\"text-align: right;\">\n",
       "      <th></th>\n",
       "      <th>title</th>\n",
       "      <th>id</th>\n",
       "      <th>categories</th>\n",
       "      <th>version</th>\n",
       "      <th>total_versions</th>\n",
       "      <th>date</th>\n",
       "    </tr>\n",
       "  </thead>\n",
       "  <tbody>\n",
       "    <tr>\n",
       "      <th>0</th>\n",
       "      <td>Calculation of prompt diphoton production cros...</td>\n",
       "      <td>0704.0001</td>\n",
       "      <td>hep-ph</td>\n",
       "      <td>1</td>\n",
       "      <td>2</td>\n",
       "      <td>2007-04-02 19:18:42+00:00</td>\n",
       "    </tr>\n",
       "    <tr>\n",
       "      <th>1</th>\n",
       "      <td>Calculation of prompt diphoton production cros...</td>\n",
       "      <td>0704.0001</td>\n",
       "      <td>hep-ph</td>\n",
       "      <td>2</td>\n",
       "      <td>2</td>\n",
       "      <td>2007-07-24 20:10:27+00:00</td>\n",
       "    </tr>\n",
       "    <tr>\n",
       "      <th>2</th>\n",
       "      <td>Sparsity-certifying Graph Decompositions</td>\n",
       "      <td>0704.0002</td>\n",
       "      <td>math.CO cs.CG</td>\n",
       "      <td>1</td>\n",
       "      <td>2</td>\n",
       "      <td>2007-03-31 02:26:18+00:00</td>\n",
       "    </tr>\n",
       "    <tr>\n",
       "      <th>3</th>\n",
       "      <td>Sparsity-certifying Graph Decompositions</td>\n",
       "      <td>0704.0002</td>\n",
       "      <td>math.CO cs.CG</td>\n",
       "      <td>2</td>\n",
       "      <td>2</td>\n",
       "      <td>2008-12-13 17:26:00+00:00</td>\n",
       "    </tr>\n",
       "    <tr>\n",
       "      <th>4</th>\n",
       "      <td>The evolution of the Earth-Moon system based o...</td>\n",
       "      <td>0704.0003</td>\n",
       "      <td>physics.gen-ph</td>\n",
       "      <td>1</td>\n",
       "      <td>3</td>\n",
       "      <td>2007-04-01 20:46:54+00:00</td>\n",
       "    </tr>\n",
       "  </tbody>\n",
       "</table>\n",
       "</div>"
      ],
      "text/plain": [
       "                                               title         id  \\\n",
       "0  Calculation of prompt diphoton production cros...  0704.0001   \n",
       "1  Calculation of prompt diphoton production cros...  0704.0001   \n",
       "2           Sparsity-certifying Graph Decompositions  0704.0002   \n",
       "3           Sparsity-certifying Graph Decompositions  0704.0002   \n",
       "4  The evolution of the Earth-Moon system based o...  0704.0003   \n",
       "\n",
       "       categories  version  total_versions                      date  \n",
       "0          hep-ph        1               2 2007-04-02 19:18:42+00:00  \n",
       "1          hep-ph        2               2 2007-07-24 20:10:27+00:00  \n",
       "2   math.CO cs.CG        1               2 2007-03-31 02:26:18+00:00  \n",
       "3   math.CO cs.CG        2               2 2008-12-13 17:26:00+00:00  \n",
       "4  physics.gen-ph        1               3 2007-04-01 20:46:54+00:00  "
      ]
     },
     "execution_count": 27,
     "metadata": {},
     "output_type": "execute_result"
    }
   ],
   "source": [
    "papers.head()"
   ]
  },
  {
   "cell_type": "code",
   "execution_count": 28,
   "id": "226c4de7-c152-4231-abd7-5e33b1c120fb",
   "metadata": {},
   "outputs": [],
   "source": [
    "papers.to_csv('papers.csv', index=False)"
   ]
  },
  {
   "cell_type": "markdown",
   "id": "4f7c3d60-fc1f-4bb3-b41c-d1307feae55b",
   "metadata": {},
   "source": [
    " > Start from here if you skipped reparsing the Kaggle JSON file."
   ]
  },
  {
   "cell_type": "code",
   "execution_count": 4,
   "id": "188ad05b-b6f8-4994-b613-c7e7ea6d1ecf",
   "metadata": {
    "tags": []
   },
   "outputs": [],
   "source": [
    "# a better way of reading the csv file should be used, this is inefficient as it considers\n",
    "# the entire file (low_memory=False) instead of reading it line by line. This is because, for some reason,\n",
    "# pandas does not know how to parse the dates.\n",
    "papers = pd.read_csv('papers.csv', parse_dates = [\"date\"], low_memory=False)"
   ]
  },
  {
   "cell_type": "code",
   "execution_count": 33,
   "id": "17f17cda-9bf2-4298-bc37-107f7541fd81",
   "metadata": {},
   "outputs": [
    {
     "data": {
      "text/html": [
       "<div>\n",
       "<style scoped>\n",
       "    .dataframe tbody tr th:only-of-type {\n",
       "        vertical-align: middle;\n",
       "    }\n",
       "\n",
       "    .dataframe tbody tr th {\n",
       "        vertical-align: top;\n",
       "    }\n",
       "\n",
       "    .dataframe thead th {\n",
       "        text-align: right;\n",
       "    }\n",
       "</style>\n",
       "<table border=\"1\" class=\"dataframe\">\n",
       "  <thead>\n",
       "    <tr style=\"text-align: right;\">\n",
       "      <th></th>\n",
       "      <th>title</th>\n",
       "      <th>id</th>\n",
       "      <th>categories</th>\n",
       "      <th>version</th>\n",
       "      <th>total_versions</th>\n",
       "      <th>date</th>\n",
       "    </tr>\n",
       "  </thead>\n",
       "  <tbody>\n",
       "    <tr>\n",
       "      <th>0</th>\n",
       "      <td>Calculation of prompt diphoton production cros...</td>\n",
       "      <td>0704.0001</td>\n",
       "      <td>hep-ph</td>\n",
       "      <td>1</td>\n",
       "      <td>2</td>\n",
       "      <td>2007-04-02 19:18:42+00:00</td>\n",
       "    </tr>\n",
       "    <tr>\n",
       "      <th>1</th>\n",
       "      <td>Calculation of prompt diphoton production cros...</td>\n",
       "      <td>0704.0001</td>\n",
       "      <td>hep-ph</td>\n",
       "      <td>2</td>\n",
       "      <td>2</td>\n",
       "      <td>2007-07-24 20:10:27+00:00</td>\n",
       "    </tr>\n",
       "    <tr>\n",
       "      <th>2</th>\n",
       "      <td>Sparsity-certifying Graph Decompositions</td>\n",
       "      <td>0704.0002</td>\n",
       "      <td>math.CO cs.CG</td>\n",
       "      <td>1</td>\n",
       "      <td>2</td>\n",
       "      <td>2007-03-31 02:26:18+00:00</td>\n",
       "    </tr>\n",
       "    <tr>\n",
       "      <th>3</th>\n",
       "      <td>Sparsity-certifying Graph Decompositions</td>\n",
       "      <td>0704.0002</td>\n",
       "      <td>math.CO cs.CG</td>\n",
       "      <td>2</td>\n",
       "      <td>2</td>\n",
       "      <td>2008-12-13 17:26:00+00:00</td>\n",
       "    </tr>\n",
       "    <tr>\n",
       "      <th>4</th>\n",
       "      <td>The evolution of the Earth-Moon system based o...</td>\n",
       "      <td>0704.0003</td>\n",
       "      <td>physics.gen-ph</td>\n",
       "      <td>1</td>\n",
       "      <td>3</td>\n",
       "      <td>2007-04-01 20:46:54+00:00</td>\n",
       "    </tr>\n",
       "  </tbody>\n",
       "</table>\n",
       "</div>"
      ],
      "text/plain": [
       "                                               title         id  \\\n",
       "0  Calculation of prompt diphoton production cros...  0704.0001   \n",
       "1  Calculation of prompt diphoton production cros...  0704.0001   \n",
       "2           Sparsity-certifying Graph Decompositions  0704.0002   \n",
       "3           Sparsity-certifying Graph Decompositions  0704.0002   \n",
       "4  The evolution of the Earth-Moon system based o...  0704.0003   \n",
       "\n",
       "       categories  version  total_versions                      date  \n",
       "0          hep-ph        1               2 2007-04-02 19:18:42+00:00  \n",
       "1          hep-ph        2               2 2007-07-24 20:10:27+00:00  \n",
       "2   math.CO cs.CG        1               2 2007-03-31 02:26:18+00:00  \n",
       "3   math.CO cs.CG        2               2 2008-12-13 17:26:00+00:00  \n",
       "4  physics.gen-ph        1               3 2007-04-01 20:46:54+00:00  "
      ]
     },
     "execution_count": 33,
     "metadata": {},
     "output_type": "execute_result"
    }
   ],
   "source": [
    "papers.head()"
   ]
  },
  {
   "cell_type": "markdown",
   "id": "7c620c5b-c820-4333-a7f0-311f0698121a",
   "metadata": {},
   "source": [
    "Split dataset in math and CS papers and download them in separate CSVs."
   ]
  },
  {
   "cell_type": "code",
   "execution_count": 3,
   "id": "0af19fc7-25cb-4666-9fe7-32681f0e6a8b",
   "metadata": {},
   "outputs": [],
   "source": [
    "# Open JSON file with categories\n",
    "categories_path = 'categories.json'\n",
    "f = open(categories_path)\n",
    "categories = json.load(f)"
   ]
  },
  {
   "cell_type": "code",
   "execution_count": 4,
   "id": "5c439d93-c696-4160-a406-c0e8054536fd",
   "metadata": {},
   "outputs": [],
   "source": [
    "def is_math(x):\n",
    "    for self_cat in x.split():\n",
    "        for subcat in categories[\"mathematics\"]:\n",
    "            if subcat == self_cat:\n",
    "                return True\n",
    "    return False"
   ]
  },
  {
   "cell_type": "code",
   "execution_count": 56,
   "id": "72081261-57c8-424a-a8a4-15a796a0e221",
   "metadata": {},
   "outputs": [],
   "source": [
    "def is_cs(x):\n",
    "    for self_cat in x.split():\n",
    "        for subcat in categories[\"computer science\"]:\n",
    "            if subcat == self_cat:\n",
    "                return True\n",
    "    return False"
   ]
  },
  {
   "cell_type": "code",
   "execution_count": 5,
   "id": "ea27e4c2-919e-4eea-81e6-dc8001d24130",
   "metadata": {},
   "outputs": [],
   "source": [
    "def is_phys(x):\n",
    "    for self_cat in x.split():\n",
    "        for subcat in categories[\"physics\"]:\n",
    "            if subcat == self_cat:\n",
    "                return True\n",
    "    return False"
   ]
  },
  {
   "cell_type": "code",
   "execution_count": 74,
   "id": "5452f4c3-db4f-4b16-8201-55a231bc3d55",
   "metadata": {},
   "outputs": [],
   "source": [
    "math_papers = papers.loc[papers[\"categories\"].apply(is_math)].reset_index(drop=True)"
   ]
  },
  {
   "cell_type": "code",
   "execution_count": 75,
   "id": "66a6650a-f49b-4151-9ea7-6f85850d7a86",
   "metadata": {},
   "outputs": [],
   "source": [
    "cs_papers = papers.loc[papers[\"categories\"].apply(is_cs)].reset_index(drop=True)"
   ]
  },
  {
   "cell_type": "code",
   "execution_count": 76,
   "id": "458434ae-8b1a-4ddc-a7e1-8518d7f563d6",
   "metadata": {},
   "outputs": [],
   "source": [
    "math_papers.to_csv('math_papers.csv', index=False)"
   ]
  },
  {
   "cell_type": "code",
   "execution_count": 77,
   "id": "fb3c9650-b4f6-4908-b90e-a95b4755b0f8",
   "metadata": {},
   "outputs": [],
   "source": [
    "cs_papers.to_csv('cs_papers.csv', index=False)"
   ]
  }
 ],
 "metadata": {
  "kernelspec": {
   "display_name": "Python 3 (ipykernel)",
   "language": "python",
   "name": "python3"
  },
  "language_info": {
   "codemirror_mode": {
    "name": "ipython",
    "version": 3
   },
   "file_extension": ".py",
   "mimetype": "text/x-python",
   "name": "python",
   "nbconvert_exporter": "python",
   "pygments_lexer": "ipython3",
   "version": "3.9.13"
  },
  "toc-autonumbering": false,
  "toc-showcode": false,
  "toc-showmarkdowntxt": false,
  "toc-showtags": false
 },
 "nbformat": 4,
 "nbformat_minor": 5
}
