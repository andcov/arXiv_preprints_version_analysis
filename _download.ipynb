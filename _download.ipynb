{
 "cells": [
  {
   "cell_type": "code",
   "execution_count": 1,
   "id": "d581b479-f15c-4fdf-89a2-08475c356ea6",
   "metadata": {},
   "outputs": [],
   "source": [
    "import requests\n",
    "import time\n",
    "import sys\n",
    "import pandas as pd\n",
    "from grobid_client.grobid_client import GrobidClient"
   ]
  },
  {
   "cell_type": "markdown",
   "id": "f24f0368-f787-442d-8806-f01f331a62c9",
   "metadata": {},
   "source": [
    "# Download papers"
   ]
  },
  {
   "cell_type": "markdown",
   "id": "b4559799-636e-4a31-987d-d4b0e969682d",
   "metadata": {},
   "source": [
    "A script containing this exact code is also available (`download.py`) if you need to run this in the background (e.g. using tmux)"
   ]
  },
  {
   "cell_type": "code",
   "execution_count": 14,
   "id": "bc96dd2d-5972-421a-a417-b5ae180c43b1",
   "metadata": {},
   "outputs": [],
   "source": [
    "# CSV with papers to download\n",
    "csv_path = 'math_papers.csv'\n",
    "\n",
    "# path to folder where the papers should be saved (!!! must add '/' at the end)\n",
    "download_path = './papers/math/'\n",
    "\n",
    "# number of papers to be downloaded\n",
    "# !!! this does not reflect the actual number of papers that will be downloaded, as each paper has more than one version (at least 2 * download_size will be downloaded)\n",
    "download_size = 4000\n",
    "\n",
    "# a CSV with the papers that the script attempted to downloaded will be saved here\n",
    "# this may be useful if the script fails and you are not sure what it was trying to download to begin with\n",
    "to_download_csv_path = './papers/to_download_math_papers.csv'\n",
    "\n",
    "# a CSV with the papers that were downloaded will be saved here\n",
    "downloaded_csv_path = './papers/downloaded_math_papers.csv'"
   ]
  },
  {
   "cell_type": "code",
   "execution_count": 15,
   "id": "4c17f040-e054-43fc-832f-deed14679841",
   "metadata": {},
   "outputs": [],
   "source": [
    "papers = pd.read_csv(csv_path, parse_dates = ['date'], dtype = {'id': str})"
   ]
  },
  {
   "cell_type": "code",
   "execution_count": 16,
   "id": "f10a41ff-4ad2-4cc8-abb3-96d27d78ce15",
   "metadata": {},
   "outputs": [],
   "source": [
    "def download(paper):\n",
    "    # download all versions of `paper`\n",
    "    for i in range(1, paper['total_versions'] + 1):\n",
    "        # some papers have '/' in their id\n",
    "        # this does not work well with paths, so we replace '/' with '_'\n",
    "        idx = paper['id'].replace('/', '_')\n",
    "        \n",
    "        # the papers are saved as a Pdf that may look like `1811.11745v1.pdf`\n",
    "        name = idx + 'v' + str(i) + '.pdf'\n",
    "        \n",
    "        # the paper is requested from `export.arxiv.org` which is a domain dedicated to bots\n",
    "        url = 'https://export.arxiv.org/pdf/' + name\n",
    "        \n",
    "        response = requests.get(url)\n",
    "        with open(download_path + name, 'wb') as f:\n",
    "            f.write(response.content)\n",
    "            \n",
    "        # a hard time limit between downloads is imposed so as to not put too much pressure on the Arxiv servers\n",
    "        time.sleep(0.5) \n",
    "    downloaded_papers_id.append(paper['id'])\n",
    "    \n",
    "    # for debugging purposes\n",
    "    if len(downloaded_papers_id) % 10 == 0:\n",
    "        print('Downloaded: ', len(downloaded_papers_id))"
   ]
  },
  {
   "cell_type": "code",
   "execution_count": 19,
   "id": "c1f226b8-307f-4333-8203-cc0960c1c65b",
   "metadata": {
    "collapsed": true,
    "jupyter": {
     "outputs_hidden": true
    },
    "tags": []
   },
   "outputs": [
    {
     "name": "stdout",
     "output_type": "stream",
     "text": [
      "Downloaded:  10\n",
      "Downloaded:  20\n",
      "Downloaded:  30\n",
      "Downloaded:  40\n",
      "Downloaded:  50\n",
      "Downloaded:  60\n",
      "Downloaded:  70\n",
      "Downloaded:  80\n",
      "Downloaded:  90\n",
      "Downloaded:  100\n"
     ]
    },
    {
     "data": {
      "text/plain": [
       "305714    None\n",
       "51197     None\n",
       "342155    None\n",
       "532613    None\n",
       "374550    None\n",
       "          ... \n",
       "517657    None\n",
       "506922    None\n",
       "218654    None\n",
       "378231    None\n",
       "447170    None\n",
       "Length: 100, dtype: object"
      ]
     },
     "execution_count": 19,
     "metadata": {},
     "output_type": "execute_result"
    }
   ],
   "source": [
    "downloaded_papers_id = []\n",
    "to_download_papers = papers.drop_duplicates('id').sample(frac = 1).head(download_size)\n",
    "to_download_papers.to_csv(to_download_csv_path, index=False)\n",
    "\n",
    "# download papers\n",
    "to_download_papers.apply(download, axis = 1)\n",
    "\n",
    "papers.query('id in @downloaded_papers_id').reset_index(drop=True).to_csv(downloaded_csv_path, index=False)"
   ]
  },
  {
   "cell_type": "markdown",
   "id": "c40fb98e-4a49-40eb-9ec6-1c8505263046",
   "metadata": {},
   "source": [
    "# Process papers using Grobid"
   ]
  },
  {
   "cell_type": "markdown",
   "id": "cd6839d4-1b84-4c4a-9f39-2b56f95c0c92",
   "metadata": {},
   "source": [
    "A script containing this exact code is also available (`process_to_tei.py`) if you need to run this in the background (e.g. using tmux)"
   ]
  },
  {
   "cell_type": "code",
   "execution_count": null,
   "id": "b331b49b-7e90-4426-b867-f368dff0e547",
   "metadata": {},
   "outputs": [],
   "source": [
    "# folder with input papers (!!! must add '/' at the end)\n",
    "input_path = './papers/math/'\n",
    "# folder where the output XML files will be saved (!!! must add '/' at the end)\n",
    "output_path = './papers/math_tei/'"
   ]
  },
  {
   "cell_type": "code",
   "execution_count": null,
   "id": "c804f418-d630-4c40-99f1-33163212196b",
   "metadata": {},
   "outputs": [],
   "source": [
    "# you may need to change the config based on where you host Grobid, the number of threads available etc. (https://grobid.readthedocs.io/en/latest/) \n",
    "client = GrobidClient(config_path='./grobid_python_config.json')"
   ]
  },
  {
   "cell_type": "code",
   "execution_count": null,
   "id": "5f8aeca8-9b74-4091-9d08-86df20aba8e2",
   "metadata": {},
   "outputs": [],
   "source": [
    "# !!! this will reprocess any file that is already in `output_path` (bacause of `force=True`)\n",
    "# you may want to change `n` based on the number of threads available on the server running Grobid (https://grobid.readthedocs.io/en/latest/) \n",
    "client.process('processFulltextDocument', input_path, output=output_path, consolidate_citations=False, tei_coordinates=False, force=True, n=7)"
   ]
  },
  {
   "cell_type": "code",
   "execution_count": null,
   "id": "19b37519-75cc-4bb7-b2fa-dbdaa7ad8351",
   "metadata": {},
   "outputs": [],
   "source": [
    "# after running the previoud block, you may want to run this as well\n",
    "# if some papers where nor processed by Grobid, this will try to do so again (without rewriting already existing XML files)\n",
    "# you may want to change `n` based on the number of threads available on the server running Grobid (https://grobid.readthedocs.io/en/latest/) \n",
    "client.process('processFulltextDocument', input_path, output=output_path, consolidate_citations=False, tei_coordinates=False, force=False, n=7)"
   ]
  }
 ],
 "metadata": {
  "kernelspec": {
   "display_name": "Python 3 (ipykernel)",
   "language": "python",
   "name": "python3"
  },
  "language_info": {
   "codemirror_mode": {
    "name": "ipython",
    "version": 3
   },
   "file_extension": ".py",
   "mimetype": "text/x-python",
   "name": "python",
   "nbconvert_exporter": "python",
   "pygments_lexer": "ipython3",
   "version": "3.10.4"
  }
 },
 "nbformat": 4,
 "nbformat_minor": 5
}
