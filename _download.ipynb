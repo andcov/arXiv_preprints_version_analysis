{
 "cells": [
  {
   "cell_type": "code",
   "execution_count": 1,
   "id": "d581b479-f15c-4fdf-89a2-08475c356ea6",
   "metadata": {},
   "outputs": [],
   "source": [
    "import requests\n",
    "import time\n",
    "import sys\n",
    "import pandas as pd\n",
    "from grobid_client.grobid_client import GrobidClient"
   ]
  },
  {
   "cell_type": "markdown",
   "id": "f0309276-8636-47f2-8199-a086cbae4e48",
   "metadata": {},
   "source": [
    "> Download papers from a csv file"
   ]
  },
  {
   "cell_type": "code",
   "execution_count": 14,
   "id": "bc96dd2d-5972-421a-a417-b5ae180c43b1",
   "metadata": {},
   "outputs": [],
   "source": [
    "csv_path = \"math_papers.csv\"\n",
    "download_path = \"./papers/math2/\"\n",
    "save_csv_path = \"./papers/downloaded_math_papers.csv\""
   ]
  },
  {
   "cell_type": "code",
   "execution_count": 15,
   "id": "4c17f040-e054-43fc-832f-deed14679841",
   "metadata": {},
   "outputs": [],
   "source": [
    "papers = pd.read_csv(csv_path, parse_dates = [\"date\"], low_memory=False)"
   ]
  },
  {
   "cell_type": "code",
   "execution_count": 16,
   "id": "f10a41ff-4ad2-4cc8-abb3-96d27d78ce15",
   "metadata": {},
   "outputs": [],
   "source": [
    "def download(paper):\n",
    "    for i in range(1, paper[\"total_versions\"] + 1):\n",
    "        idx = paper[\"id\"].replace(\"/\", \"_\")\n",
    "        name = idx + \"v\" + str(i) + \".pdf\"\n",
    "        url = \"https://export.arxiv.org/pdf/\" + name\n",
    "        response = requests.get(url)\n",
    "        with open(download_path + name, 'wb') as f:\n",
    "            f.write(response.content)\n",
    "        time.sleep(0.2)\n",
    "    downloaded_papers_id.append(paper[\"id\"])\n",
    "    if len(downloaded_papers_id) % 10 == 0:\n",
    "        print(\"Downloaded: \", len(downloaded_papers_id))"
   ]
  },
  {
   "cell_type": "markdown",
   "id": "ed56359e-7882-4ed9-a4f8-ba6b9b1b6f32",
   "metadata": {},
   "source": [
    "If you wish to download all of the papers, remove `.sample(frac = 1).head(100)`"
   ]
  },
  {
   "cell_type": "code",
   "execution_count": 19,
   "id": "c1f226b8-307f-4333-8203-cc0960c1c65b",
   "metadata": {
    "collapsed": true,
    "jupyter": {
     "outputs_hidden": true
    },
    "tags": []
   },
   "outputs": [
    {
     "name": "stdout",
     "output_type": "stream",
     "text": [
      "Downloaded:  10\n",
      "Downloaded:  20\n",
      "Downloaded:  30\n",
      "Downloaded:  40\n",
      "Downloaded:  50\n",
      "Downloaded:  60\n",
      "Downloaded:  70\n",
      "Downloaded:  80\n",
      "Downloaded:  90\n",
      "Downloaded:  100\n"
     ]
    },
    {
     "data": {
      "text/plain": [
       "305714    None\n",
       "51197     None\n",
       "342155    None\n",
       "532613    None\n",
       "374550    None\n",
       "          ... \n",
       "517657    None\n",
       "506922    None\n",
       "218654    None\n",
       "378231    None\n",
       "447170    None\n",
       "Length: 100, dtype: object"
      ]
     },
     "execution_count": 19,
     "metadata": {},
     "output_type": "execute_result"
    }
   ],
   "source": [
    "downloaded_papers_id = []\n",
    "papers.drop_duplicates(\"id\").sample(frac = 1).head(100).apply(download, axis = 1)\n",
    "\n",
    "papers.query(\"id in @downloaded_papers_id\").reset_index(drop=True).to_csv(save_csv_path, index=False)"
   ]
  },
  {
   "cell_type": "markdown",
   "id": "c40fb98e-4a49-40eb-9ec6-1c8505263046",
   "metadata": {},
   "source": [
    "> Convert papers to XML using Grobid."
   ]
  },
  {
   "cell_type": "code",
   "execution_count": null,
   "id": "b331b49b-7e90-4426-b867-f368dff0e547",
   "metadata": {},
   "outputs": [],
   "source": [
    "input_path = \"./papers/cs2\"\n",
    "output_path = \"./papers/cs2_xml\""
   ]
  },
  {
   "cell_type": "code",
   "execution_count": null,
   "id": "c804f418-d630-4c40-99f1-33163212196b",
   "metadata": {},
   "outputs": [],
   "source": [
    "client = GrobidClient(config_path=\"./grobid_python_config.json\")"
   ]
  },
  {
   "cell_type": "code",
   "execution_count": null,
   "id": "5f8aeca8-9b74-4091-9d08-86df20aba8e2",
   "metadata": {},
   "outputs": [],
   "source": [
    "client.process(\"processFulltextDocument\", input_path, output=output_path, consolidate_citations=False, tei_coordinates=False, force=True, n=4)"
   ]
  },
  {
   "cell_type": "code",
   "execution_count": null,
   "id": "19b37519-75cc-4bb7-b2fa-dbdaa7ad8351",
   "metadata": {},
   "outputs": [],
   "source": [
    "# If you encountered errors when running the previous block, run this until all files are converted\n",
    "client.process(\"processFulltextDocument\", input_path, output=output_path, consolidate_citations=False, tei_coordinates=False, force=False, n=4)"
   ]
  }
 ],
 "metadata": {
  "kernelspec": {
   "display_name": "Python 3 (ipykernel)",
   "language": "python",
   "name": "python3"
  },
  "language_info": {
   "codemirror_mode": {
    "name": "ipython",
    "version": 3
   },
   "file_extension": ".py",
   "mimetype": "text/x-python",
   "name": "python",
   "nbconvert_exporter": "python",
   "pygments_lexer": "ipython3",
   "version": "3.9.13"
  }
 },
 "nbformat": 4,
 "nbformat_minor": 5
}
