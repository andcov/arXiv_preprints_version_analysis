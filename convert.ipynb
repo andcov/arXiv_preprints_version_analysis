{
 "cells": [
  {
   "cell_type": "code",
   "execution_count": 4,
   "id": "c1f57c7c-c93c-47f7-a5e1-95b0db2acc25",
   "metadata": {},
   "outputs": [],
   "source": [
    "from grobid_client.grobid_client import GrobidClient\n",
    "import requests"
   ]
  },
  {
   "cell_type": "code",
   "execution_count": 5,
   "id": "ec66fd7b-f00c-4845-b845-b9eef4ba7ccb",
   "metadata": {},
   "outputs": [],
   "source": [
    "url = 'https://export.arxiv.org/pdf/0704.0040'\n",
    "response = requests.get(url)\n",
    "with open('./input/temp.pdf', 'wb') as f:\n",
    "    f.write(response.content)"
   ]
  },
  {
   "cell_type": "code",
   "execution_count": 11,
   "id": "9ba4842b-d2a2-4a6c-958d-9957f4c1607b",
   "metadata": {},
   "outputs": [
    {
     "name": "stdout",
     "output_type": "stream",
     "text": [
      "GROBID server is up and running\n"
     ]
    }
   ],
   "source": [
    "client = GrobidClient(config_path=\"./grobid_python_config.json\")\n",
    "client.process(\"processFulltextDocument\", \"./input\", output=\"./output\", consolidate_citations=True, tei_coordinates=True, force=True, n=20)"
   ]
  },
  {
   "cell_type": "code",
   "execution_count": null,
   "id": "efee3764-b8df-4298-9ae3-74e9b7651421",
   "metadata": {},
   "outputs": [],
   "source": []
  }
 ],
 "metadata": {
  "kernelspec": {
   "display_name": "Python 3 (ipykernel)",
   "language": "python",
   "name": "python3"
  },
  "language_info": {
   "codemirror_mode": {
    "name": "ipython",
    "version": 3
   },
   "file_extension": ".py",
   "mimetype": "text/x-python",
   "name": "python",
   "nbconvert_exporter": "python",
   "pygments_lexer": "ipython3",
   "version": "3.9.13"
  }
 },
 "nbformat": 4,
 "nbformat_minor": 5
}
